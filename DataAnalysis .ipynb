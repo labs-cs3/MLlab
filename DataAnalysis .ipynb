{
 "cells": [
  {
   "cell_type": "code",
   "execution_count": 8,
   "metadata": {},
   "outputs": [
    {
     "name": "stdout",
     "output_type": "stream",
     "text": [
      "CSV file created and saved as 'students_info.csv'\n"
     ]
    }
   ],
   "source": [
    "import pandas as pd\n",
    "\n",
    "students_data = pd.DataFrame({\n",
    "    'Roll Number': [1, 2, 3, 4, 5],\n",
    "    'Math': [85, 88, 90, 70, 95],\n",
    "    'Science': [78, 76, 88, 65, 92],\n",
    "    'English': [92, 85, 93, 75, 89],\n",
    "    'History': [74, 80, 85, 60, 91]\n",
    "})\n",
    "\n",
    "file_path = 'students_info1.csv'\n",
    "\n",
    "students_data.to_csv(file_path, index=False)\n",
    "\n",
    "print(\"CSV file created and saved as 'students_info.csv'\")"
   ]
  },
  {
   "cell_type": "code",
   "execution_count": 10,
   "metadata": {},
   "outputs": [
    {
     "name": "stdout",
     "output_type": "stream",
     "text": [
      "Student Marks DataFrame:\n",
      "   Roll Number  Math  Science  English  History\n",
      "0            1    85       78       92       74\n",
      "1            2    88       76       85       80\n",
      "2            3    90       88       93       85\n",
      "3            4    70       65       75       60\n",
      "4            5    95       92       89       91\n",
      "\n",
      "Analysis (Min, Max, Average):\n",
      "         Min  Max  Average\n",
      "Math      70   95     85.6\n",
      "Science   65   92     79.8\n",
      "English   75   93     86.8\n",
      "History   60   91     78.0\n"
     ]
    }
   ],
   "source": [
    "df = pd.read_csv(file_path)\n",
    "print(\"Student Marks DataFrame:\")\n",
    "print(df)\n",
    "analysis = {\n",
    "    'Min': df.drop(columns=['Roll Number']).min(),\n",
    "    'Max': df.drop(columns=['Roll Number']).max(),\n",
    "    'Average': df.drop(columns=['Roll Number']).mean()\n",
    "}\n",
    "analysis_df = pd.DataFrame(analysis)\n",
    "\n",
    "print(\"\\nAnalysis (Min, Max, Average):\")\n",
    "print(analysis_df)"
   ]
  },
  {
   "cell_type": "code",
   "execution_count": null,
   "metadata": {},
   "outputs": [],
   "source": []
  }
 ],
 "metadata": {
  "kernelspec": {
   "display_name": "Python 3",
   "language": "python",
   "name": "python3"
  },
  "language_info": {
   "codemirror_mode": {
    "name": "ipython",
    "version": 3
   },
   "file_extension": ".py",
   "mimetype": "text/x-python",
   "name": "python",
   "nbconvert_exporter": "python",
   "pygments_lexer": "ipython3",
   "version": "3.12.2"
  }
 },
 "nbformat": 4,
 "nbformat_minor": 2
}
