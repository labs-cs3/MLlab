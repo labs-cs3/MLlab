{
 "cells": [
  {
   "cell_type": "code",
   "execution_count": null,
   "id": "0d480f82",
   "metadata": {},
   "outputs": [],
   "source": [
    "import numpy as np"
   ]
  },
  {
   "cell_type": "code",
   "execution_count": null,
   "id": "11f9d18b",
   "metadata": {},
   "outputs": [],
   "source": [
    "array2D_1 = np.array([[1, 2, 3], [4, 5, 6]])\n",
    "array2D_2 = np.array([[10, 20, 30], [40, 50, 60]])"
   ]
  },
  {
   "cell_type": "code",
   "execution_count": null,
   "id": "da250282",
   "metadata": {},
   "outputs": [],
   "source": [
    "addition_2D = np.add(array2D_1, array2D_2)\n",
    "print(addition_2D)"
   ]
  },
  {
   "cell_type": "code",
   "execution_count": null,
   "id": "5bf85c21",
   "metadata": {},
   "outputs": [],
   "source": [
    "subtraction_2D = np.subtract(array2D_1, array2D_2)\n",
    "print(subtraction_2D)"
   ]
  },
  {
   "cell_type": "code",
   "execution_count": null,
   "id": "929270e4",
   "metadata": {},
   "outputs": [],
   "source": [
    "multiplication_2D = np.multiply(array2D_1, array2D_2)\n",
    "print(multiplication_2D)"
   ]
  },
  {
   "cell_type": "code",
   "execution_count": null,
   "id": "be4eb2bf",
   "metadata": {},
   "outputs": [],
   "source": [
    "exponentiation_2D = np.power(array2D_1, 2)\n",
    "print(exponentiation_2D)\n"
   ]
  },
  {
   "cell_type": "code",
   "execution_count": null,
   "id": "014c230b",
   "metadata": {},
   "outputs": [],
   "source": [
    "modulus_2D = np.mod(array2D_2, array2D_1)\n",
    "print(modulus_2D)"
   ]
  },
  {
   "cell_type": "code",
   "execution_count": null,
   "id": "5d733e78",
   "metadata": {},
   "outputs": [],
   "source": [
    "scalar_addition_2D = array2D_1 + 5\n",
    "print(scalar_addition_2D)"
   ]
  },
  {
   "cell_type": "code",
   "execution_count": null,
   "id": "51dadeaf",
   "metadata": {},
   "outputs": [],
   "source": [
    "scalar_multiplication_2D = array2D_1 * 3\n",
    "print(scalar_multiplication_2D)"
   ]
  },
  {
   "cell_type": "code",
   "execution_count": null,
   "id": "9acaef00",
   "metadata": {},
   "outputs": [],
   "source": [
    "array3D_1 = np.array([[[1, 2], [3, 4]], [[5, 6], [7, 8]]])\n",
    "array3D_2 = np.array([[[10, 20], [30, 40]], [[50, 60], [70, 80]]])"
   ]
  },
  {
   "cell_type": "code",
   "execution_count": null,
   "id": "3c6ef260",
   "metadata": {},
   "outputs": [],
   "source": [
    "addition_3D = np.add(array3D_1, array3D_2)\n",
    "print(addition_3D)\n"
   ]
  },
  {
   "cell_type": "code",
   "execution_count": null,
   "id": "2e7490ca",
   "metadata": {},
   "outputs": [],
   "source": [
    "subtraction_3D = np.subtract(array3D_1, array3D_2)\n",
    "print(subtraction_3D)"
   ]
  },
  {
   "cell_type": "code",
   "execution_count": null,
   "id": "7180f41b",
   "metadata": {},
   "outputs": [],
   "source": [
    "multiplication_3D = np.multiply(array3D_1, array3D_2)\n",
    "print(multiplication_3D)"
   ]
  },
  {
   "cell_type": "code",
   "execution_count": null,
   "id": "37dc6e86",
   "metadata": {},
   "outputs": [],
   "source": [
    "division_3D = np.divide(array3D_1, array3D_2)\n",
    "print(division_3D)\n"
   ]
  },
  {
   "cell_type": "code",
   "execution_count": null,
   "id": "43814d18",
   "metadata": {},
   "outputs": [],
   "source": [
    "exponentiation_3D = np.power(array3D_1, 2)\n",
    "print(exponentiation_3D)"
   ]
  },
  {
   "cell_type": "code",
   "execution_count": null,
   "id": "f48f84de",
   "metadata": {},
   "outputs": [],
   "source": [
    "modulus_3D = np.mod(array3D_2, array3D_1)\n",
    "print(modulus_3D)"
   ]
  },
  {
   "cell_type": "code",
   "execution_count": null,
   "id": "e2238437",
   "metadata": {},
   "outputs": [],
   "source": [
    "scalar_addition_3D = array3D_1 + 5\n",
    "print(scalar_addition_3D)"
   ]
  },
  {
   "cell_type": "code",
   "execution_count": null,
   "id": "affb9230",
   "metadata": {},
   "outputs": [],
   "source": [
    "scalar_multiplication_3D = array3D_1 * 3\n",
    "print(scalar_multiplication_3D)"
   ]
  }
 ],
 "metadata": {
  "kernelspec": {
   "display_name": "Python 3 (ipykernel)",
   "language": "python",
   "name": "python3"
  },
  "language_info": {
   "codemirror_mode": {
    "name": "ipython",
    "version": 3
   },
   "file_extension": ".py",
   "mimetype": "text/x-python",
   "name": "python",
   "nbconvert_exporter": "python",
   "pygments_lexer": "ipython3",
   "version": "3.9.13"
  }
 },
 "nbformat": 4,
 "nbformat_minor": 5
}
