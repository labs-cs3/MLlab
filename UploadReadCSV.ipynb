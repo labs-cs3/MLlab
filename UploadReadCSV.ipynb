{
 "cells": [
  {
   "cell_type": "code",
   "execution_count": 1,
   "id": "bf3a037a",
   "metadata": {},
   "outputs": [],
   "source": [
    "import numpy as np"
   ]
  },
  {
   "cell_type": "code",
   "execution_count": 2,
   "id": "117fae1d",
   "metadata": {},
   "outputs": [
    {
     "data": {
      "text/plain": [
       "array([[ 1, 36, 18, 57],\n",
       "       [ 2, 22, 23, 45],\n",
       "       [ 3, 43, 51, 37],\n",
       "       [ 4, 41, 40, 60],\n",
       "       [ 5, 13, 18, 37]])"
      ]
     },
     "execution_count": 2,
     "metadata": {},
     "output_type": "execute_result"
    }
   ],
   "source": [
    "studentdata = np.loadtxt('data.txt', skiprows=1, delimiter=',',dtype = int)\n",
    "studentdata"
   ]
  },
  {
   "cell_type": "code",
   "execution_count": 3,
   "id": "7783cce7",
   "metadata": {},
   "outputs": [],
   "source": [
    "#unpack = False for row wise extraction and True for column extraction\n",
    "stud1, stud2, stud3, stud4, stud5 = np.loadtxt('data.txt',skiprows=1,\n",
    "delimiter=',', dtype = int)\n"
   ]
  },
  {
   "cell_type": "code",
   "execution_count": 5,
   "id": "006317ca",
   "metadata": {},
   "outputs": [
    {
     "data": {
      "text/plain": [
       "array([ 1, 36, 18, 57])"
      ]
     },
     "execution_count": 5,
     "metadata": {},
     "output_type": "execute_result"
    }
   ],
   "source": [
    "stud1"
   ]
  },
  {
   "cell_type": "code",
   "execution_count": 6,
   "id": "cd867716",
   "metadata": {},
   "outputs": [
    {
     "data": {
      "text/plain": [
       "array([ 2, 22, 23, 45])"
      ]
     },
     "execution_count": 6,
     "metadata": {},
     "output_type": "execute_result"
    }
   ],
   "source": [
    "stud2"
   ]
  },
  {
   "cell_type": "code",
   "execution_count": 7,
   "id": "de1de7f6",
   "metadata": {},
   "outputs": [
    {
     "data": {
      "text/plain": [
       "array([ 3, 43, 51, 37])"
      ]
     },
     "execution_count": 7,
     "metadata": {},
     "output_type": "execute_result"
    }
   ],
   "source": [
    "stud3"
   ]
  },
  {
   "cell_type": "code",
   "execution_count": 8,
   "id": "21ac6a4a",
   "metadata": {},
   "outputs": [
    {
     "data": {
      "text/plain": [
       "array([ 4, 41, 40, 60])"
      ]
     },
     "execution_count": 8,
     "metadata": {},
     "output_type": "execute_result"
    }
   ],
   "source": [
    "stud4"
   ]
  },
  {
   "cell_type": "code",
   "execution_count": 9,
   "id": "4dc427fe",
   "metadata": {},
   "outputs": [
    {
     "data": {
      "text/plain": [
       "array([ 5, 13, 18, 37])"
      ]
     },
     "execution_count": 9,
     "metadata": {},
     "output_type": "execute_result"
    }
   ],
   "source": [
    "stud5"
   ]
  },
  {
   "cell_type": "code",
   "execution_count": 11,
   "id": "6783cb93",
   "metadata": {},
   "outputs": [],
   "source": [
    "sno,mks1,mks2,mks3 = np.loadtxt('data.txt',skiprows=1,\n",
    "delimiter=',', unpack=True,dtype = int)"
   ]
  },
  {
   "cell_type": "code",
   "execution_count": 12,
   "id": "4a9a2273",
   "metadata": {},
   "outputs": [
    {
     "data": {
      "text/plain": [
       "array([1, 2, 3, 4, 5])"
      ]
     },
     "execution_count": 12,
     "metadata": {},
     "output_type": "execute_result"
    }
   ],
   "source": [
    "sno"
   ]
  },
  {
   "cell_type": "code",
   "execution_count": 13,
   "id": "9e300eba",
   "metadata": {},
   "outputs": [
    {
     "data": {
      "text/plain": [
       "array([36, 22, 43, 41, 13])"
      ]
     },
     "execution_count": 13,
     "metadata": {},
     "output_type": "execute_result"
    }
   ],
   "source": [
    "mks1"
   ]
  },
  {
   "cell_type": "code",
   "execution_count": 14,
   "id": "07cad120",
   "metadata": {},
   "outputs": [
    {
     "data": {
      "text/plain": [
       "array([18, 23, 51, 40, 18])"
      ]
     },
     "execution_count": 14,
     "metadata": {},
     "output_type": "execute_result"
    }
   ],
   "source": [
    "mks2"
   ]
  },
  {
   "cell_type": "code",
   "execution_count": 15,
   "id": "f6c22d82",
   "metadata": {},
   "outputs": [
    {
     "data": {
      "text/plain": [
       "array([57, 45, 37, 60, 37])"
      ]
     },
     "execution_count": 15,
     "metadata": {},
     "output_type": "execute_result"
    }
   ],
   "source": [
    "mks3"
   ]
  },
  {
   "cell_type": "code",
   "execution_count": 16,
   "id": "58cd94ab",
   "metadata": {},
   "outputs": [
    {
     "data": {
      "text/plain": [
       "array([[ 1., 36., 18., 57.],\n",
       "       [ 2., nan, 23., 45.],\n",
       "       [ 3., 43., 51., nan],\n",
       "       [ 4., 41., 40., 60.],\n",
       "       [ 5., 13., 18., 27.]])"
      ]
     },
     "execution_count": 16,
     "metadata": {},
     "output_type": "execute_result"
    }
   ],
   "source": [
    "#Using NumPy.genfromtxt()\n",
    "dataarray = np.genfromtxt('data1.txt',skip_header=1,delimiter = ',')\n",
    "dataarray"
   ]
  },
  {
   "cell_type": "code",
   "execution_count": 18,
   "id": "c26f90ef",
   "metadata": {},
   "outputs": [
    {
     "data": {
      "text/plain": [
       "array([[   1,   36,   18,   57],\n",
       "       [   2, -999,   23,   45],\n",
       "       [   3,   43,   51, -999],\n",
       "       [   4,   41,   40,   60],\n",
       "       [   5,   13,   18,   27]])"
      ]
     },
     "execution_count": 18,
     "metadata": {},
     "output_type": "execute_result"
    }
   ],
   "source": [
    "dataarray = np.genfromtxt('data1.txt',skip_header=1,delimiter=',', filling_values=-999,\n",
    "dtype = int)\n",
    "dataarray"
   ]
  },
  {
   "cell_type": "code",
   "execution_count": null,
   "id": "733c51d8",
   "metadata": {},
   "outputs": [],
   "source": []
  }
 ],
 "metadata": {
  "kernelspec": {
   "display_name": "Python 3 (ipykernel)",
   "language": "python",
   "name": "python3"
  },
  "language_info": {
   "codemirror_mode": {
    "name": "ipython",
    "version": 3
   },
   "file_extension": ".py",
   "mimetype": "text/x-python",
   "name": "python",
   "nbconvert_exporter": "python",
   "pygments_lexer": "ipython3",
   "version": "3.9.12"
  }
 },
 "nbformat": 4,
 "nbformat_minor": 5
}
