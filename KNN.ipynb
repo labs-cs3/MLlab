{
 "cells": [
  {
   "cell_type": "code",
   "execution_count": null,
   "id": "76c6a7dc",
   "metadata": {},
   "outputs": [],
   "source": [
    "import numpy as np\n",
    "import matplotlib.pyplot as plt\n",
    "x = [4,5,10,4,3,11,14,8,10,12]\n",
    "y = [21,19,14,17,16,25,24,22,21,21]\n",
    "classes = [0,0,1,0,0,1,1,0,1,1]\n",
    "\n",
    "plt.scatter(x,y,c=classes)\n",
    "plt.show()\n",
    "\n",
    "\n",
    "from sklearn.neighbors import KNeighborsClassifier\n",
    "data = list(zip(x,y))\n",
    "knn = KNeighborsClassifier(n_neighbors=5)\n",
    "knn.fit(data,classes)\n",
    "new_x=8\n",
    "new_y=21\n",
    "\n",
    "\n",
    "new_point=[(new_x,new_y)]\n",
    "\n",
    "\n",
    "prediction=knn.predict(new_point)\n",
    "print(\"The new query point belongs to class:\",prediction)\n",
    "plt.scatter(x+[new_x],y+[new_y],c=classes+[prediction[0]])\n",
    "plt.text(x=new_x-1,y=new_y-1,s=(\"new point\"))\n",
    "plt.show()"
   ]
  },
  {
   "cell_type": "code",
   "execution_count": null,
   "id": "9e6e2655",
   "metadata": {},
   "outputs": [],
   "source": []
  }
 ],
 "metadata": {
  "kernelspec": {
   "display_name": "Python 3 (ipykernel)",
   "language": "python",
   "name": "python3"
  },
  "language_info": {
   "codemirror_mode": {
    "name": "ipython",
    "version": 3
   },
   "file_extension": ".py",
   "mimetype": "text/x-python",
   "name": "python",
   "nbconvert_exporter": "python",
   "pygments_lexer": "ipython3",
   "version": "3.9.13"
  }
 },
 "nbformat": 4,
 "nbformat_minor": 5
}
