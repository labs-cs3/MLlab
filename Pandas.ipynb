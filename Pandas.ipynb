{
 "cells": [
  {
   "cell_type": "code",
   "execution_count": 2,
   "id": "0a704fd2",
   "metadata": {},
   "outputs": [],
   "source": [
    "import pandas as pd"
   ]
  },
  {
   "cell_type": "code",
   "execution_count": 2,
   "id": "b17ea751",
   "metadata": {},
   "outputs": [
    {
     "data": {
      "text/plain": [
       "0    22\n",
       "1    33\n",
       "2    44\n",
       "dtype: int64"
      ]
     },
     "execution_count": 2,
     "metadata": {},
     "output_type": "execute_result"
    }
   ],
   "source": [
    "df1 = pd.Series([22,33,44])\n",
    "df1"
   ]
  },
  {
   "cell_type": "code",
   "execution_count": 3,
   "id": "f272aeea",
   "metadata": {},
   "outputs": [
    {
     "data": {
      "text/plain": [
       "0       22\n",
       "1    33.12\n",
       "2      cse\n",
       "3     True\n",
       "dtype: object"
      ]
     },
     "execution_count": 3,
     "metadata": {},
     "output_type": "execute_result"
    }
   ],
   "source": [
    "df2 = pd.Series([22,33.12,'cse', True])\n",
    "df2"
   ]
  },
  {
   "cell_type": "code",
   "execution_count": 4,
   "id": "4bec116b",
   "metadata": {},
   "outputs": [
    {
     "data": {
      "text/plain": [
       "0    a\n",
       "1    b\n",
       "dtype: object"
      ]
     },
     "execution_count": 4,
     "metadata": {},
     "output_type": "execute_result"
    }
   ],
   "source": [
    "df2 = pd.Series(('a','b'))\n",
    "df2"
   ]
  },
  {
   "cell_type": "code",
   "execution_count": 5,
   "id": "ffc6e630",
   "metadata": {},
   "outputs": [
    {
     "name": "stdout",
     "output_type": "stream",
     "text": [
      "66    CSM\n",
      "05    CSE\n",
      "04    ECE\n",
      "dtype: object\n"
     ]
    }
   ],
   "source": [
    "series1 = pd.Series([\"CSM\",\"CSE\",\"ECE\"], index=['66','05','04'])\n",
    "print(series1)"
   ]
  },
  {
   "cell_type": "code",
   "execution_count": 6,
   "id": "7231dbee",
   "metadata": {},
   "outputs": [
    {
     "name": "stdout",
     "output_type": "stream",
     "text": [
      "66    CSM\n",
      "05    CSE\n",
      "04    ECE\n",
      "dtype: object\n"
     ]
    }
   ],
   "source": [
    "series1 = pd.Series([\"CSM\",\"CSE\",\"ECE\"], index=['66','05','04'])\n",
    "print(series1)"
   ]
  },
  {
   "cell_type": "code",
   "execution_count": 4,
   "id": "fdcfe924",
   "metadata": {},
   "outputs": [
    {
     "name": "stdout",
     "output_type": "stream",
     "text": [
      "0    1\n",
      "1    2\n",
      "2    3\n",
      "3    4\n",
      "dtype: int32\n"
     ]
    }
   ],
   "source": [
    "#Creation of Series from NumPy Arrays\n",
    "import numpy as np # import NumPy with alias np\n",
    "import pandas as pd\n",
    "array1 = np.array([1,2,3,4])\n",
    "series3 = pd.Series(array1)\n",
    "print(series3)"
   ]
  },
  {
   "cell_type": "code",
   "execution_count": 5,
   "id": "17065daf",
   "metadata": {},
   "outputs": [
    {
     "name": "stdout",
     "output_type": "stream",
     "text": [
      "Jan    1\n",
      "Feb    2\n",
      "Mar    3\n",
      "Apr    4\n",
      "dtype: int32\n"
     ]
    }
   ],
   "source": [
    "series4 = pd.Series(array1, index = [\"Jan\",\"Feb\", \"Mar\", \"Apr\"])\n",
    "print(series4)"
   ]
  },
  {
   "cell_type": "code",
   "execution_count": 6,
   "id": "4e2fba42",
   "metadata": {},
   "outputs": [
    {
     "name": "stdout",
     "output_type": "stream",
     "text": [
      "Jan    1\n",
      "Feb    2\n",
      "Mar    3\n",
      "Apr    4\n",
      "dtype: int32\n"
     ]
    }
   ],
   "source": [
    "series5 = pd.Series(array1, index = [\"Jan\",\"Feb\", \"Mar\",'Apr'])\n",
    "print(series5)"
   ]
  },
  {
   "cell_type": "code",
   "execution_count": 51,
   "id": "80a744d1",
   "metadata": {},
   "outputs": [
    {
     "name": "stdout",
     "output_type": "stream",
     "text": [
      "{'India': 'NewDelhi', 'UK': 'London', 'Japan': 'Tokyo'}\n",
      "India    NewDelhi\n",
      "UK         London\n",
      "Japan       Tokyo\n",
      "dtype: object\n"
     ]
    }
   ],
   "source": [
    "#Creation of Series from Dictionary\n",
    "dict1 = {'India': 'NewDelhi', 'UK':'London', 'Japan': 'Tokyo'}\n",
    "print(dict1) #Display the dictionary\n",
    "\n",
    "series8 = pd.Series(dict1)\n",
    "print(series8) #Display the series"
   ]
  },
  {
   "cell_type": "code",
   "execution_count": 52,
   "id": "c3ee5567",
   "metadata": {},
   "outputs": [
    {
     "data": {
      "text/plain": [
       "30"
      ]
     },
     "execution_count": 52,
     "metadata": {},
     "output_type": "execute_result"
    }
   ],
   "source": [
    "#Accessing Elements of a Series\n",
    "#1. Indexing\n",
    "#2. Slicing\n",
    "seriesNum = pd.Series([10,20,30])\n",
    "seriesNum[2]\n"
   ]
  },
  {
   "cell_type": "code",
   "execution_count": 53,
   "id": "96e90fb9",
   "metadata": {},
   "outputs": [
    {
     "data": {
      "text/plain": [
       "3"
      ]
     },
     "execution_count": 53,
     "metadata": {},
     "output_type": "execute_result"
    }
   ],
   "source": [
    "seriesMnths = pd.Series([2,3,4],index=[\"Feb\",\"Mar\",\"Apr\"])\n",
    "seriesMnths[\"Mar\"]"
   ]
  },
  {
   "cell_type": "code",
   "execution_count": 54,
   "id": "d75efa08",
   "metadata": {},
   "outputs": [
    {
     "data": {
      "text/plain": [
       "'NewDelhi'"
      ]
     },
     "execution_count": 54,
     "metadata": {},
     "output_type": "execute_result"
    }
   ],
   "source": [
    "seriesCapCntry = pd.Series(['NewDelhi','WashingtonDC', 'London', 'Paris'],\n",
    "                     index=['India', 'USA', 'UK', 'France'])\n",
    "seriesCapCntry['India']"
   ]
  },
  {
   "cell_type": "code",
   "execution_count": 55,
   "id": "d267f39e",
   "metadata": {},
   "outputs": [
    {
     "data": {
      "text/plain": [
       "'WashingtonDC'"
      ]
     },
     "execution_count": 55,
     "metadata": {},
     "output_type": "execute_result"
    }
   ],
   "source": [
    "seriesCapCntry[1]"
   ]
  },
  {
   "cell_type": "code",
   "execution_count": 56,
   "id": "a586eac4",
   "metadata": {},
   "outputs": [
    {
     "data": {
      "text/plain": [
       "France     Paris\n",
       "UK        London\n",
       "dtype: object"
      ]
     },
     "execution_count": 56,
     "metadata": {},
     "output_type": "execute_result"
    }
   ],
   "source": [
    "#More than one element of a series can be accessed using a list of positional integers\n",
    "seriesCapCntry[[3,2]]"
   ]
  },
  {
   "cell_type": "code",
   "execution_count": 57,
   "id": "35af822f",
   "metadata": {},
   "outputs": [
    {
     "data": {
      "text/plain": [
       "UK           London\n",
       "USA    WashingtonDC\n",
       "dtype: object"
      ]
     },
     "execution_count": 57,
     "metadata": {},
     "output_type": "execute_result"
    }
   ],
   "source": [
    "seriesCapCntry[['UK','USA']]"
   ]
  },
  {
   "cell_type": "code",
   "execution_count": 58,
   "id": "d52fc3d5",
   "metadata": {},
   "outputs": [
    {
     "data": {
      "text/plain": [
       "10        NewDelhi\n",
       "20    WashingtonDC\n",
       "30          London\n",
       "40           Paris\n",
       "dtype: object"
      ]
     },
     "execution_count": 58,
     "metadata": {},
     "output_type": "execute_result"
    }
   ],
   "source": [
    "seriesCapCntry.index=[10,20,30,40]\n",
    "seriesCapCntry"
   ]
  },
  {
   "cell_type": "code",
   "execution_count": 59,
   "id": "e9d23674",
   "metadata": {},
   "outputs": [
    {
     "data": {
      "text/plain": [
       "USA    WashingtonDC\n",
       "UK           London\n",
       "dtype: object"
      ]
     },
     "execution_count": 59,
     "metadata": {},
     "output_type": "execute_result"
    }
   ],
   "source": [
    "seriesCapCntry = pd.Series(['NewDelhi', 'WashingtonDC', 'London',\n",
    "'Paris'], index=['India', 'USA', 'UK', 'France'])\n",
    "seriesCapCntry[1:3] #excludes the value at index position 3"
   ]
  },
  {
   "cell_type": "code",
   "execution_count": 60,
   "id": "5c964d86",
   "metadata": {},
   "outputs": [
    {
     "data": {
      "text/plain": [
       "USA       WashingtonDC\n",
       "UK              London\n",
       "France           Paris\n",
       "dtype: object"
      ]
     },
     "execution_count": 60,
     "metadata": {},
     "output_type": "execute_result"
    }
   ],
   "source": [
    "#If labelled indexes are used for slicing, then value at the end index\n",
    "#label is also included in the output, for example:\n",
    "seriesCapCntry['USA' : 'France']"
   ]
  },
  {
   "cell_type": "code",
   "execution_count": 61,
   "id": "0ce56c68",
   "metadata": {},
   "outputs": [
    {
     "data": {
      "text/plain": [
       "France           Paris\n",
       "UK              London\n",
       "USA       WashingtonDC\n",
       "India         NewDelhi\n",
       "dtype: object"
      ]
     },
     "execution_count": 61,
     "metadata": {},
     "output_type": "execute_result"
    }
   ],
   "source": [
    "#series in reverse order\n",
    "seriesCapCntry[ : : -1]"
   ]
  },
  {
   "cell_type": "code",
   "execution_count": 62,
   "id": "1d415d31",
   "metadata": {},
   "outputs": [
    {
     "name": "stdout",
     "output_type": "stream",
     "text": [
      "0    10\n",
      "1    11\n",
      "2    12\n",
      "3    13\n",
      "4    14\n",
      "5    15\n",
      "dtype: int32\n"
     ]
    }
   ],
   "source": [
    "seriesAlph = pd.Series(np.arange(10,16,1))\n",
    "print(seriesAlph)"
   ]
  },
  {
   "cell_type": "code",
   "execution_count": 20,
   "id": "deb435bd",
   "metadata": {},
   "outputs": [
    {
     "data": {
      "text/plain": [
       "a    10\n",
       "b    11\n",
       "c    12\n",
       "d    13\n",
       "e    14\n",
       "f    15\n",
       "dtype: int32"
      ]
     },
     "execution_count": 20,
     "metadata": {},
     "output_type": "execute_result"
    }
   ],
   "source": [
    "#We can also use slicing to modify the values of series elements\n",
    "seriesAlph = pd.Series(np.arange(10,16,1),\n",
    "index = ['a', 'b', 'c', 'd', 'e', 'f'])\n",
    "seriesAlph"
   ]
  },
  {
   "cell_type": "code",
   "execution_count": 21,
   "id": "da339236",
   "metadata": {},
   "outputs": [
    {
     "data": {
      "text/plain": [
       "a    10\n",
       "b    50\n",
       "c    50\n",
       "d    13\n",
       "e    14\n",
       "f    15\n",
       "dtype: int32"
      ]
     },
     "execution_count": 21,
     "metadata": {},
     "output_type": "execute_result"
    }
   ],
   "source": [
    "seriesAlph[1:3] = 50\n",
    "seriesAlph"
   ]
  },
  {
   "cell_type": "code",
   "execution_count": 63,
   "id": "8c01bd98",
   "metadata": {},
   "outputs": [
    {
     "data": {
      "text/html": [
       "<div>\n",
       "<style scoped>\n",
       "    .dataframe tbody tr th:only-of-type {\n",
       "        vertical-align: middle;\n",
       "    }\n",
       "\n",
       "    .dataframe tbody tr th {\n",
       "        vertical-align: top;\n",
       "    }\n",
       "\n",
       "    .dataframe thead th {\n",
       "        text-align: right;\n",
       "    }\n",
       "</style>\n",
       "<table border=\"1\" class=\"dataframe\">\n",
       "  <thead>\n",
       "    <tr style=\"text-align: right;\">\n",
       "      <th></th>\n",
       "    </tr>\n",
       "  </thead>\n",
       "  <tbody>\n",
       "  </tbody>\n",
       "</table>\n",
       "</div>"
      ],
      "text/plain": [
       "Empty DataFrame\n",
       "Columns: []\n",
       "Index: []"
      ]
     },
     "execution_count": 63,
     "metadata": {},
     "output_type": "execute_result"
    }
   ],
   "source": [
    "#DataFrame\n",
    "import pandas as pd\n",
    "dFrameEmt = pd.DataFrame()\n",
    "dFrameEmt"
   ]
  },
  {
   "cell_type": "code",
   "execution_count": 64,
   "id": "8bc01926",
   "metadata": {},
   "outputs": [
    {
     "data": {
      "text/html": [
       "<div>\n",
       "<style scoped>\n",
       "    .dataframe tbody tr th:only-of-type {\n",
       "        vertical-align: middle;\n",
       "    }\n",
       "\n",
       "    .dataframe tbody tr th {\n",
       "        vertical-align: top;\n",
       "    }\n",
       "\n",
       "    .dataframe thead th {\n",
       "        text-align: right;\n",
       "    }\n",
       "</style>\n",
       "<table border=\"1\" class=\"dataframe\">\n",
       "  <thead>\n",
       "    <tr style=\"text-align: right;\">\n",
       "      <th></th>\n",
       "      <th>0</th>\n",
       "    </tr>\n",
       "  </thead>\n",
       "  <tbody>\n",
       "    <tr>\n",
       "      <th>0</th>\n",
       "      <td>10</td>\n",
       "    </tr>\n",
       "    <tr>\n",
       "      <th>1</th>\n",
       "      <td>20</td>\n",
       "    </tr>\n",
       "    <tr>\n",
       "      <th>2</th>\n",
       "      <td>30</td>\n",
       "    </tr>\n",
       "  </tbody>\n",
       "</table>\n",
       "</div>"
      ],
      "text/plain": [
       "    0\n",
       "0  10\n",
       "1  20\n",
       "2  30"
      ]
     },
     "execution_count": 64,
     "metadata": {},
     "output_type": "execute_result"
    }
   ],
   "source": [
    "#Creation of DataFrame from NumPy ndarrays\n",
    "import numpy as np\n",
    "array1 = np.array([10,20,30])\n",
    "array2 = np.array([100,200,300])\n",
    "array3 = np.array([-10,-20,-30, -40])\n",
    "dFrame4 = pd.DataFrame(array1)\n",
    "dFrame4"
   ]
  },
  {
   "cell_type": "code",
   "execution_count": 24,
   "id": "79185abe",
   "metadata": {},
   "outputs": [
    {
     "data": {
      "text/html": [
       "<div>\n",
       "<style scoped>\n",
       "    .dataframe tbody tr th:only-of-type {\n",
       "        vertical-align: middle;\n",
       "    }\n",
       "\n",
       "    .dataframe tbody tr th {\n",
       "        vertical-align: top;\n",
       "    }\n",
       "\n",
       "    .dataframe thead th {\n",
       "        text-align: right;\n",
       "    }\n",
       "</style>\n",
       "<table border=\"1\" class=\"dataframe\">\n",
       "  <thead>\n",
       "    <tr style=\"text-align: right;\">\n",
       "      <th></th>\n",
       "      <th>A</th>\n",
       "      <th>B</th>\n",
       "      <th>C</th>\n",
       "      <th>D</th>\n",
       "    </tr>\n",
       "  </thead>\n",
       "  <tbody>\n",
       "    <tr>\n",
       "      <th>0</th>\n",
       "      <td>10</td>\n",
       "      <td>20</td>\n",
       "      <td>30</td>\n",
       "      <td>NaN</td>\n",
       "    </tr>\n",
       "    <tr>\n",
       "      <th>1</th>\n",
       "      <td>-10</td>\n",
       "      <td>-20</td>\n",
       "      <td>-30</td>\n",
       "      <td>-40.0</td>\n",
       "    </tr>\n",
       "    <tr>\n",
       "      <th>2</th>\n",
       "      <td>100</td>\n",
       "      <td>200</td>\n",
       "      <td>300</td>\n",
       "      <td>NaN</td>\n",
       "    </tr>\n",
       "  </tbody>\n",
       "</table>\n",
       "</div>"
      ],
      "text/plain": [
       "     A    B    C     D\n",
       "0   10   20   30   NaN\n",
       "1  -10  -20  -30 -40.0\n",
       "2  100  200  300   NaN"
      ]
     },
     "execution_count": 24,
     "metadata": {},
     "output_type": "execute_result"
    }
   ],
   "source": [
    "dFrame5 = pd.DataFrame([array1, array3,array2], columns=[ 'A', 'B', 'C', 'D'])\n",
    "dFrame5\n"
   ]
  },
  {
   "cell_type": "code",
   "execution_count": 25,
   "id": "2d5f9531",
   "metadata": {},
   "outputs": [
    {
     "data": {
      "text/html": [
       "<div>\n",
       "<style scoped>\n",
       "    .dataframe tbody tr th:only-of-type {\n",
       "        vertical-align: middle;\n",
       "    }\n",
       "\n",
       "    .dataframe tbody tr th {\n",
       "        vertical-align: top;\n",
       "    }\n",
       "\n",
       "    .dataframe thead th {\n",
       "        text-align: right;\n",
       "    }\n",
       "</style>\n",
       "<table border=\"1\" class=\"dataframe\">\n",
       "  <thead>\n",
       "    <tr style=\"text-align: right;\">\n",
       "      <th></th>\n",
       "      <th>a</th>\n",
       "      <th>b</th>\n",
       "      <th>c</th>\n",
       "    </tr>\n",
       "  </thead>\n",
       "  <tbody>\n",
       "    <tr>\n",
       "      <th>0</th>\n",
       "      <td>10</td>\n",
       "      <td>20</td>\n",
       "      <td>NaN</td>\n",
       "    </tr>\n",
       "    <tr>\n",
       "      <th>1</th>\n",
       "      <td>5</td>\n",
       "      <td>10</td>\n",
       "      <td>20.0</td>\n",
       "    </tr>\n",
       "  </tbody>\n",
       "</table>\n",
       "</div>"
      ],
      "text/plain": [
       "    a   b     c\n",
       "0  10  20   NaN\n",
       "1   5  10  20.0"
      ]
     },
     "execution_count": 25,
     "metadata": {},
     "output_type": "execute_result"
    }
   ],
   "source": [
    "#Creation of DataFrame from List of Dictionaries\n",
    "listDict = [{'a':10, 'b':20}, {'a':5,'b':10, 'c':20}]\n",
    "dFrameListDict = pd.DataFrame(listDict)\n",
    "dFrameListDict"
   ]
  },
  {
   "cell_type": "code",
   "execution_count": 26,
   "id": "5c217ff4",
   "metadata": {},
   "outputs": [
    {
     "data": {
      "text/html": [
       "<div>\n",
       "<style scoped>\n",
       "    .dataframe tbody tr th:only-of-type {\n",
       "        vertical-align: middle;\n",
       "    }\n",
       "\n",
       "    .dataframe tbody tr th {\n",
       "        vertical-align: top;\n",
       "    }\n",
       "\n",
       "    .dataframe thead th {\n",
       "        text-align: right;\n",
       "    }\n",
       "</style>\n",
       "<table border=\"1\" class=\"dataframe\">\n",
       "  <thead>\n",
       "    <tr style=\"text-align: right;\">\n",
       "      <th></th>\n",
       "      <th>State</th>\n",
       "      <th>GArea</th>\n",
       "      <th>VDF</th>\n",
       "    </tr>\n",
       "  </thead>\n",
       "  <tbody>\n",
       "    <tr>\n",
       "      <th>0</th>\n",
       "      <td>Assam</td>\n",
       "      <td>78438</td>\n",
       "      <td>2797.00</td>\n",
       "    </tr>\n",
       "    <tr>\n",
       "      <th>1</th>\n",
       "      <td>Delhi</td>\n",
       "      <td>1483</td>\n",
       "      <td>6.72</td>\n",
       "    </tr>\n",
       "    <tr>\n",
       "      <th>2</th>\n",
       "      <td>Kerala</td>\n",
       "      <td>38852</td>\n",
       "      <td>1663.00</td>\n",
       "    </tr>\n",
       "  </tbody>\n",
       "</table>\n",
       "</div>"
      ],
      "text/plain": [
       "    State  GArea      VDF\n",
       "0   Assam  78438  2797.00\n",
       "1   Delhi   1483     6.72\n",
       "2  Kerala  38852  1663.00"
      ]
     },
     "execution_count": 26,
     "metadata": {},
     "output_type": "execute_result"
    }
   ],
   "source": [
    "#Creation of DataFrame from Dictionary of Lists\n",
    "dictForest = {'State': ['Assam', 'Delhi','Kerala'],\n",
    "'GArea': [78438, 1483, 38852] ,\n",
    "'VDF' : [2797, 6.72,1663]}\n",
    "dFrameForest= pd.DataFrame(dictForest)\n",
    "dFrameForest"
   ]
  },
  {
   "cell_type": "code",
   "execution_count": 27,
   "id": "f055914f",
   "metadata": {},
   "outputs": [],
   "source": [
    "#Creation of DataFrame from Series\n",
    "seriesA = pd.Series([1,2,3,4,5],\n",
    "index = ['a', 'b', 'c', 'd', 'e'])\n",
    "seriesB = pd.Series ([1000,2000,-1000,-5000,1000],\n",
    "index = ['a', 'b', 'c', 'd', 'e'])\n",
    "seriesC = pd.Series([10,20,-10,-50,100],\n",
    "index = ['z', 'y', 'a', 'c', 'e'])\n"
   ]
  },
  {
   "cell_type": "code",
   "execution_count": 28,
   "id": "6fe21bb2",
   "metadata": {},
   "outputs": [
    {
     "data": {
      "text/html": [
       "<div>\n",
       "<style scoped>\n",
       "    .dataframe tbody tr th:only-of-type {\n",
       "        vertical-align: middle;\n",
       "    }\n",
       "\n",
       "    .dataframe tbody tr th {\n",
       "        vertical-align: top;\n",
       "    }\n",
       "\n",
       "    .dataframe thead th {\n",
       "        text-align: right;\n",
       "    }\n",
       "</style>\n",
       "<table border=\"1\" class=\"dataframe\">\n",
       "  <thead>\n",
       "    <tr style=\"text-align: right;\">\n",
       "      <th></th>\n",
       "      <th>a</th>\n",
       "      <th>b</th>\n",
       "      <th>c</th>\n",
       "      <th>d</th>\n",
       "      <th>e</th>\n",
       "      <th>z</th>\n",
       "      <th>y</th>\n",
       "    </tr>\n",
       "  </thead>\n",
       "  <tbody>\n",
       "    <tr>\n",
       "      <th>0</th>\n",
       "      <td>1.0</td>\n",
       "      <td>2.0</td>\n",
       "      <td>3.0</td>\n",
       "      <td>4.0</td>\n",
       "      <td>5.0</td>\n",
       "      <td>NaN</td>\n",
       "      <td>NaN</td>\n",
       "    </tr>\n",
       "    <tr>\n",
       "      <th>1</th>\n",
       "      <td>1000.0</td>\n",
       "      <td>2000.0</td>\n",
       "      <td>-1000.0</td>\n",
       "      <td>-5000.0</td>\n",
       "      <td>1000.0</td>\n",
       "      <td>NaN</td>\n",
       "      <td>NaN</td>\n",
       "    </tr>\n",
       "    <tr>\n",
       "      <th>2</th>\n",
       "      <td>-10.0</td>\n",
       "      <td>NaN</td>\n",
       "      <td>-50.0</td>\n",
       "      <td>NaN</td>\n",
       "      <td>100.0</td>\n",
       "      <td>10.0</td>\n",
       "      <td>20.0</td>\n",
       "    </tr>\n",
       "  </tbody>\n",
       "</table>\n",
       "</div>"
      ],
      "text/plain": [
       "        a       b       c       d       e     z     y\n",
       "0     1.0     2.0     3.0     4.0     5.0   NaN   NaN\n",
       "1  1000.0  2000.0 -1000.0 -5000.0  1000.0   NaN   NaN\n",
       "2   -10.0     NaN   -50.0     NaN   100.0  10.0  20.0"
      ]
     },
     "execution_count": 28,
     "metadata": {},
     "output_type": "execute_result"
    }
   ],
   "source": [
    "dFrame7 = pd.DataFrame([seriesA, seriesB,seriesC])\n",
    "dFrame7"
   ]
  },
  {
   "cell_type": "code",
   "execution_count": null,
   "id": "72fdc9b6",
   "metadata": {},
   "outputs": [],
   "source": []
  },
  {
   "cell_type": "code",
   "execution_count": null,
   "id": "75854f00",
   "metadata": {},
   "outputs": [],
   "source": []
  }
 ],
 "metadata": {
  "kernelspec": {
   "display_name": "Python 3 (ipykernel)",
   "language": "python",
   "name": "python3"
  },
  "language_info": {
   "codemirror_mode": {
    "name": "ipython",
    "version": 3
   },
   "file_extension": ".py",
   "mimetype": "text/x-python",
   "name": "python",
   "nbconvert_exporter": "python",
   "pygments_lexer": "ipython3",
   "version": "3.12.0"
  }
 },
 "nbformat": 4,
 "nbformat_minor": 5
}
